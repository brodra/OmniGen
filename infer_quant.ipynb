{
 "cells": [
  {
   "cell_type": "code",
   "execution_count": null,
   "metadata": {},
   "outputs": [],
   "source": [
    "from OmniGen import OmniGenPipeline\n",
    "\n",
    "pipe = OmniGenPipeline.from_pretrained(\n",
    "    \"Shitao/OmniGen-v1\",\n",
    "    quantization_config=\"bnb_8bit\",\n",
    "    low_cpu_mem_usage=True,\n",
    ")"
   ]
  },
  {
   "cell_type": "code",
   "execution_count": null,
   "metadata": {},
   "outputs": [],
   "source": [
    "import os\n",
    "import numpy as np\n",
    "from PIL import Image\n",
    "\n",
    "def multi_scale_gen(guidance_scales, img_guidance_scales, outdir, **kwargs):\n",
    "    os.makedirs(outdir, exist_ok=True)\n",
    "    all_results = []\n",
    "    for r, guidance_scale in enumerate(guidance_scales):\n",
    "        all_results.append([])\n",
    "        for c, img_guidance_scale in enumerate(img_guidance_scales):\n",
    "            result = pipe(\n",
    "                guidance_scale=guidance_scale,\n",
    "                img_guidance_scale=img_guidance_scale,\n",
    "                **kwargs,\n",
    "            )[0]\n",
    "            result.save(f\"{outdir}/{guidance_scale:.1f}_{img_guidance_scale:.1f}.png\")\n",
    "            all_results[r].append(np.array(result))\n",
    "        all_results[r] = np.concatenate(all_results[r], axis=1)\n",
    "    all_results = np.concatenate(all_results, axis=0)\n",
    "    all_results = Image.fromarray(all_results)\n",
    "    all_results.save(f\"{outdir}/{outdir}.png\")\n",
    "    return all_results"
   ]
  },
  {
   "cell_type": "code",
   "execution_count": null,
   "metadata": {},
   "outputs": [],
   "source": [
    "prompt = \"ducks\"\n",
    "result_0 = pipe(\n",
    "    prompt=prompt,\n",
    "    height=1024,\n",
    "    width=1024,\n",
    "    num_inference_steps=50,\n",
    "    guidance_scale=3,\n",
    "    seed=0,\n",
    ")[0]\n",
    "result_0.save(\"result_0.png\")\n",
    "result_0"
   ]
  },
  {
   "cell_type": "code",
   "execution_count": null,
   "metadata": {},
   "outputs": [],
   "source": [
    "prompt = \"<img><|image_1|><img>\\n Change the color of the duck to black.\"\n",
    "size = 512\n",
    "step = 20\n",
    "multi_scale_gen(\n",
    "    outdir=\"outputs\",\n",
    "    prompt=prompt,\n",
    "    input_images=[\"result_0.png\"],\n",
    "    height=size,\n",
    "    width=size,\n",
    "    max_input_image_size=size,\n",
    "    num_inference_steps=step,\n",
    "    guidance_scales=np.linspace(2.0, 3.0, 3),\n",
    "    img_guidance_scales=np.linspace(1.0, 2.0, 3),\n",
    "    seed=1,\n",
    ")"
   ]
  }
 ],
 "metadata": {
  "fileId": "7f531268-5342-427d-b09c-adb1ef7c12d7",
  "filePath": "/opt/tiger/OmniGen/infer_quant.ipynb",
  "kernelspec": {
   "display_name": "Python 3",
   "language": "python",
   "name": "python3"
  },
  "language_info": {
   "codemirror_mode": {
    "name": "ipython",
    "version": 3
   },
   "file_extension": ".py",
   "mimetype": "text/x-python",
   "name": "python",
   "nbconvert_exporter": "python",
   "pygments_lexer": "ipython3",
   "version": "3.11.2"
  }
 },
 "nbformat": 4,
 "nbformat_minor": 2
}
