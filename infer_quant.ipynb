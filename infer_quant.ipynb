{
 "cells": [
  {
   "cell_type": "code",
   "execution_count": null,
   "metadata": {},
   "outputs": [],
   "source": [
    "from OmniGen import OmniGenPipeline\n",
    "\n",
    "pipe = OmniGenPipeline.from_pretrained(\n",
    "    \"Shitao/OmniGen-v1\",\n",
    "    quantization_config=\"bnb_8bit\",\n",
    "    low_cpu_mem_usage=True,\n",
    ")"
   ]
  },
  {
   "cell_type": "code",
   "execution_count": null,
   "metadata": {},
   "outputs": [],
   "source": [
    "prompt = \"ducks\"\n",
    "result_0 = pipe(\n",
    "    prompt=prompt,\n",
    "    height=1024,\n",
    "    width=1024,\n",
    "    num_inference_steps=50,\n",
    "    guidance_scale=3,\n",
    "    seed=0,\n",
    ")[0]\n",
    "result_0.save(\"result_0.png\")\n",
    "result_0"
   ]
  },
  {
   "cell_type": "code",
   "execution_count": null,
   "metadata": {},
   "outputs": [],
   "source": [
    "prompt=\"<img><|image_1|><img>\\n Change the color of the duck to black.\"\n",
    "result_1 = pipe(\n",
    "    prompt=prompt,\n",
    "    input_images=[\"result_0.png\"],\n",
    "    height=1024,\n",
    "    width=1024,\n",
    "    max_input_image_size=1024,\n",
    "    num_inference_steps=50,\n",
    "    guidance_scale=2.5,\n",
    "    img_guidance_scale=1.6,\n",
    "    seed=0,\n",
    ")[0]\n",
    "result_1"
   ]
  }
 ],
 "metadata": {
  "fileId": "7f531268-5342-427d-b09c-adb1ef7c12d7",
  "filePath": "/opt/tiger/OmniGen/infer_quant.ipynb",
  "kernelspec": {
   "display_name": "Python 3",
   "language": "python",
   "name": "python3"
  },
  "language_info": {
   "codemirror_mode": {
    "name": "ipython",
    "version": 3
   },
   "file_extension": ".py",
   "mimetype": "text/x-python",
   "name": "python",
   "nbconvert_exporter": "python",
   "pygments_lexer": "ipython3",
   "version": "3.11.2"
  }
 },
 "nbformat": 4,
 "nbformat_minor": 2
}
